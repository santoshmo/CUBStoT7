{
 "cells": [
  {
   "cell_type": "code",
   "execution_count": 268,
   "metadata": {
    "collapsed": true
   },
   "outputs": [],
   "source": [
    "function explode(div,str)\n",
    "    if (div=='') then return false end\n",
    "    local pos,arr = 0,{}\n",
    "    for st,sp in function() return string.find(str,div,pos,true) end do\n",
    "        table.insert(arr,string.sub(str,pos,st-1))\n",
    "        pos = sp + 1\n",
    "    end\n",
    "    table.insert(arr,string.sub(str,pos))\n",
    "    return arr\n",
    "end"
   ]
  },
  {
   "cell_type": "code",
   "execution_count": 269,
   "metadata": {
    "collapsed": true
   },
   "outputs": [],
   "source": [
    "test_or_train_g = io.open(\"train_test_split.txt\")"
   ]
  },
  {
   "cell_type": "code",
   "execution_count": 270,
   "metadata": {
    "collapsed": true
   },
   "outputs": [],
   "source": [
    "bounding_boxes_g = io.open(\"bounding_boxes.txt\")"
   ]
  },
  {
   "cell_type": "code",
   "execution_count": 271,
   "metadata": {
    "collapsed": true
   },
   "outputs": [],
   "source": [
    "images_g = io.open(\"images.txt\")"
   ]
  },
  {
   "cell_type": "code",
   "execution_count": 272,
   "metadata": {
    "collapsed": true
   },
   "outputs": [],
   "source": [
    "part_locs_g = io.open(\"parts/part_locs.txt\")"
   ]
  },
  {
   "cell_type": "code",
   "execution_count": 273,
   "metadata": {
    "collapsed": true
   },
   "outputs": [],
   "source": [
    "mturk_g = io.open('parts/part_click_locs.txt')"
   ]
  },
  {
   "cell_type": "code",
   "execution_count": 274,
   "metadata": {
    "collapsed": false
   },
   "outputs": [],
   "source": [
    "image_path = 't7/'\n"
   ]
  },
  {
   "cell_type": "code",
   "execution_count": 275,
   "metadata": {
    "collapsed": false
   },
   "outputs": [
    {
     "ename": "[string \"function explode(div,str)...\"]:4: bad argument #1 to '(for generator)' (string expected, got nil)\nstack traceback:\n\t[C]: in function '(for generator)'\n\t[string \"function explode(div,str)...\"]:4: in function 'explode'\n\t[string \"for j = 1,11780 do ...\"]:27: in main chunk\n\t[C]: in function 'xpcall'\n\t/usr/local/share/lua/5.1/itorch/main.lua:179: in function </usr/local/share/lua/5.1/itorch/main.lua:143>\n\t/usr/local/share/lua/5.1/lzmq/poller.lua:75: in function 'poll'\n\t/usr/local/share/lua/5.1/lzmq/impl/loop.lua:307: in function 'poll'\n\t/usr/local/share/lua/5.1/lzmq/impl/loop.lua:325: in function 'sleep_ex'\n\t/usr/local/share/lua/5.1/lzmq/impl/loop.lua:370: in function 'start'\n\t/usr/local/share/lua/5.1/itorch/main.lua:350: in main chunk\n\t[C]: in function 'require'\n\t[string \"arg={'/Users/santoshmohan/Library/Jupyter/run...\"]:1: in main chunk",
     "evalue": "",
     "output_type": "error",
     "traceback": [
      "[string \"function explode(div,str)...\"]:4: bad argument #1 to '(for generator)' (string expected, got nil)\nstack traceback:\n\t[C]: in function '(for generator)'\n\t[string \"function explode(div,str)...\"]:4: in function 'explode'\n\t[string \"for j = 1,11780 do ...\"]:27: in main chunk\n\t[C]: in function 'xpcall'\n\t/usr/local/share/lua/5.1/itorch/main.lua:179: in function </usr/local/share/lua/5.1/itorch/main.lua:143>\n\t/usr/local/share/lua/5.1/lzmq/poller.lua:75: in function 'poll'\n\t/usr/local/share/lua/5.1/lzmq/impl/loop.lua:307: in function 'poll'\n\t/usr/local/share/lua/5.1/lzmq/impl/loop.lua:325: in function 'sleep_ex'\n\t/usr/local/share/lua/5.1/lzmq/impl/loop.lua:370: in function 'start'\n\t/usr/local/share/lua/5.1/itorch/main.lua:350: in main chunk\n\t[C]: in function 'require'\n\t[string \"arg={'/Users/santoshmohan/Library/Jupyter/run...\"]:1: in main chunk"
     ]
    }
   ],
   "source": [
    "for j = 1,11780 do \n",
    "    bb_info = explode(\" \", tostring(bounding_boxes_g:read()))\n",
    "    bb_coords = {}\n",
    "    for i = 2,5 do \n",
    "        table.insert(bb_coords, tonumber(bb_info[i])) -- convert from string to num\n",
    "    end\n",
    "    bb_coords = torch.Tensor(bb_coords) -- 1x4 tensor\n",
    "    image_info = explode(\" \", tostring(images_g:read()))\n",
    "    class_id = tonumber(string.sub(image_info[2], 1,3)) -- which bird\n",
    "    image_id = tonumber(image_info[1]) -- which image of bird\n",
    "    test_or_train = tonumber(explode(\" \", tostring(test_or_train_g:read()))[2]) -- suggested data set\n",
    "    \n",
    "    parts = {}\n",
    "    for k = 1,15 do \n",
    "        part_loc_info = explode(\" \", part_locs_g:read())\n",
    "        entry = {}\n",
    "        for l = 2, 5 do\n",
    "            table.insert(entry, part_loc_info[l])\n",
    "        end\n",
    "        table.insert(parts, entry)\n",
    "    end\n",
    "    parts = torch.Tensor(parts)\n",
    "    \n",
    "    --  MTurk, user generated data...proceed with caution? \n",
    "    mturk_parts = {}\n",
    "    for k = 1,75 do \n",
    "        mturk_part_loc_info = explode(\" \", mturk_g:read())\n",
    "        entry = {}\n",
    "        for l = 2,6 do\n",
    "            table.insert(entry, mturk_part_loc_info[l])\n",
    "        end\n",
    "        table.insert(mturk_parts, entry)\n",
    "    end\n",
    "    mturk_parts = torch.Tensor(mturk_parts)\n",
    "    \n",
    "    -- write data to object and save \n",
    "    info = {}\n",
    "    info.image_id = image_id\n",
    "    info.class_id = class_id\n",
    "    info.test_or_train = test_or_train\n",
    "    info.bb_coords = bb_coords\n",
    "    info.parts = parts\n",
    "    info.mturk_parts = mturk_parts\n",
    "    filename = 'image' .. image_id .. '.t7'\n",
    "    torch.save(image_path .. filename, info)\n",
    "end"
   ]
  },
  {
   "cell_type": "code",
   "execution_count": 266,
   "metadata": {
    "collapsed": true
   },
   "outputs": [],
   "source": [
    "v = torch.load('t7/image2.t7')"
   ]
  },
  {
   "cell_type": "code",
   "execution_count": 267,
   "metadata": {
    "collapsed": false
   },
   "outputs": [
    {
     "data": {
      "text/plain": [
       "   1.0000  221.0000  138.0000    1.0000    3.4630\n",
       "   1.0000  234.0000  135.0000    1.0000    2.8040\n",
       "   1.0000  230.0000  138.0000    1.0000    4.5090\n",
       "   1.0000  228.0000  138.0000    1.0000    3.2340\n",
       "   1.0000  223.0000  136.0000    1.0000    3.0580\n",
       "   2.0000  281.0000  153.0000    1.0000    1.9330\n",
       "   2.0000  279.0000  153.0000    1.0000    2.5540\n",
       "   2.0000  284.0000  156.0000    1.0000    2.5270\n",
       "   2.0000  282.0000  154.0000    1.0000    3.7250\n",
       "   2.0000  282.0000  155.0000    1.0000    3.1030\n",
       "   3.0000  199.0000  160.0000    1.0000    2.6210\n",
       "   3.0000    0.0000    0.0000    0.0000    2.6240\n",
       "   3.0000    0.0000    0.0000    0.0000    3.0260\n",
       "   3.0000    0.0000    0.0000    0.0000    3.3130\n",
       "   3.0000    0.0000    0.0000    0.0000    3.3620\n",
       "   4.0000  251.0000  158.0000    1.0000   19.5960\n",
       "   4.0000  244.0000  161.0000    1.0000    2.8450\n",
       "   4.0000  249.0000  158.0000    1.0000    3.3440\n",
       "   4.0000  248.0000  158.0000    1.0000    2.1680\n",
       "   4.0000    0.0000    0.0000    0.0000    4.1680\n",
       "   5.0000  269.0000  142.0000    1.0000    4.8560\n",
       "   5.0000  265.0000  141.0000    1.0000    3.3360\n",
       "   5.0000  267.0000  141.0000    1.0000    2.3860\n",
       "   5.0000  266.0000  140.0000    1.0000    5.8690\n",
       "   5.0000  266.0000  142.0000    1.0000    5.4630\n",
       "   6.0000  273.0000  145.0000    1.0000    2.6530\n",
       "   6.0000  269.0000  142.0000    1.0000    3.5360\n",
       "   6.0000  270.0000  142.0000    1.0000    2.3280\n",
       "   6.0000  272.0000  144.0000    1.0000    4.7060\n",
       "   6.0000  274.0000  145.0000    1.0000    4.1720\n",
       "   7.0000    0.0000    0.0000    0.0000   12.7920\n",
       "   7.0000    0.0000    0.0000    0.0000    7.5110\n",
       "   7.0000    0.0000    0.0000    0.0000    4.9860\n",
       "   7.0000    0.0000    0.0000    0.0000    2.3580\n",
       "   7.0000    0.0000    0.0000    0.0000    5.1620\n",
       "   8.0000    0.0000    0.0000    0.0000    3.0780\n",
       "   8.0000    0.0000    0.0000    0.0000    9.2460\n",
       "   8.0000    0.0000    0.0000    0.0000    3.3450\n",
       "   8.0000    0.0000    0.0000    0.0000    3.7910\n",
       "   8.0000    0.0000    0.0000    0.0000    4.4230\n",
       "   9.0000  208.0000   98.0000    1.0000    1.7280\n",
       "   9.0000  202.0000  102.0000    1.0000    2.9600\n",
       "   9.0000  208.0000  105.0000    1.0000    3.8530\n",
       "   9.0000  209.0000   93.0000    1.0000    6.0190\n",
       "   9.0000  213.0000  106.0000    1.0000    4.0680\n",
       "  10.0000  257.0000  148.0000    1.0000    2.0310\n",
       "  10.0000  253.0000  140.0000    1.0000   21.9650\n",
       "  10.0000  257.0000  141.0000    1.0000    4.3280\n",
       "  10.0000  248.0000  142.0000    1.0000    2.3600\n",
       "  10.0000  256.0000  139.0000    1.0000    1.7440\n",
       "  11.0000  269.0000  145.0000    1.0000    2.2440\n",
       "  11.0000  269.0000  147.0000    1.0000    4.9350\n",
       "  11.0000  270.0000  146.0000    1.0000    4.1340\n",
       "  11.0000  270.0000  147.0000    1.0000    3.1040\n",
       "  11.0000  270.0000  145.0000    1.0000    6.9780\n",
       "  12.0000  148.0000  160.0000    1.0000    2.9800\n",
       "  12.0000    0.0000    0.0000    0.0000    3.0640\n",
       "  12.0000    0.0000    0.0000    0.0000    2.9530\n",
       "  12.0000    0.0000    0.0000    0.0000    3.9360\n",
       "  12.0000    0.0000    0.0000    0.0000    4.2350\n",
       "  13.0000  234.0000  201.0000    1.0000    6.4270\n",
       "  13.0000  228.0000  206.0000    1.0000    3.8350\n",
       "  13.0000  235.0000  183.0000    1.0000    4.6490\n",
       "  13.0000  240.0000  182.0000    1.0000    3.1360\n",
       "  13.0000  233.0000  193.0000    1.0000    3.9600\n",
       "  14.0000  163.0000  156.0000    1.0000    5.8780\n",
       "  14.0000  151.0000  159.0000    1.0000    4.7760\n",
       "  14.0000  165.0000  153.0000    1.0000    4.5220\n",
       "  14.0000  167.0000  154.0000    1.0000    1.4370\n",
       "  14.0000  155.0000  155.0000    1.0000    3.0950\n",
       "  15.0000  260.0000  155.0000    1.0000    3.2340\n",
       "  15.0000  269.0000  155.0000    1.0000    2.7300\n",
       "  15.0000  258.0000  157.0000    1.0000    1.7010\n",
       "  15.0000  265.0000  158.0000    1.0000    4.2740\n",
       "  15.0000  257.0000  155.0000    1.0000    4.3940\n",
       "[torch.DoubleTensor of size 75x5]\n",
       "\n"
      ]
     },
     "execution_count": 267,
     "metadata": {},
     "output_type": "execute_result"
    }
   ],
   "source": [
    "print(v.mturk_parts)"
   ]
  },
  {
   "cell_type": "code",
   "execution_count": 276,
   "metadata": {
    "collapsed": true
   },
   "outputs": [],
   "source": [
    "v = torch.load('t7/image10590.t7')"
   ]
  },
  {
   "cell_type": "code",
   "execution_count": 277,
   "metadata": {
    "collapsed": false
   },
   "outputs": [
    {
     "data": {
      "text/plain": [
       "10590\t\n"
      ]
     },
     "execution_count": 277,
     "metadata": {},
     "output_type": "execute_result"
    }
   ],
   "source": [
    "print(v.image_id)"
   ]
  },
  {
   "cell_type": "code",
   "execution_count": 279,
   "metadata": {
    "collapsed": false
   },
   "outputs": [
    {
     "data": {
      "text/plain": [
       "  27\n",
       "  79\n",
       " 321\n",
       " 187\n",
       "[torch.DoubleTensor of size 4]\n",
       "\n"
      ]
     },
     "execution_count": 279,
     "metadata": {},
     "output_type": "execute_result"
    }
   ],
   "source": [
    "print(v.bb_coords)"
   ]
  },
  {
   "cell_type": "code",
   "execution_count": null,
   "metadata": {
    "collapsed": true
   },
   "outputs": [],
   "source": []
  }
 ],
 "metadata": {
  "kernelspec": {
   "display_name": "iTorch",
   "language": "lua",
   "name": "itorch"
  },
  "language_info": {
   "name": "lua",
   "version": "20100"
  }
 },
 "nbformat": 4,
 "nbformat_minor": 0
}
